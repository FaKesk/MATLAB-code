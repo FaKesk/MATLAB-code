{
  "nbformat": 4,
  "nbformat_minor": 0,
  "metadata": {
    "colab": {
      "name": "Capital",
      "provenance": [],
      "collapsed_sections": [],
      "authorship_tag": "ABX9TyOq/KgdMW4xH8oiRDB7b6C+",
      "include_colab_link": true
    },
    "kernelspec": {
      "name": "python3",
      "display_name": "Python 3"
    },
    "language_info": {
      "name": "python"
    }
  },
  "cells": [
    {
      "cell_type": "markdown",
      "metadata": {
        "id": "view-in-github",
        "colab_type": "text"
      },
      "source": [
        "<a href=\"https://colab.research.google.com/github/FaKesk/MATLAB-code/blob/main/Capital.ipynb\" target=\"_parent\"><img src=\"https://colab.research.google.com/assets/colab-badge.svg\" alt=\"Open In Colab\"/></a>"
      ]
    },
    {
      "cell_type": "code",
      "source": [
        "myFile=open(\"text file\",\"r\")\n",
        "line_list=[]; line_list1=[]\n",
        "#turning the lines in file into string\n",
        "for line in myFile:\n",
        "  x=line.split()\n",
        "  n=0; first_character=''\n",
        "  while n<len(x):\n",
        "    first_character+=x[n]+' '\n",
        "    n+=1\n",
        "  line_list1.append(first_character)\n",
        "\n",
        "#capitalising each word in each line\n",
        "#writing modified lines into new file\n",
        "fID=open(\"text file1\",\"w\")\n",
        "for sentence in line_list1:\n",
        "  fID.write(\"{} \\n\".format(sentence.title()))\n",
        "fID.close()"
      ],
      "metadata": {
        "id": "-1Xa0EvIzuw6"
      },
      "execution_count": 32,
      "outputs": []
    }
  ]
}