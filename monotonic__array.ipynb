{
  "nbformat": 4,
  "nbformat_minor": 0,
  "metadata": {
    "colab": {
      "name": "monotonic _array",
      "provenance": [],
      "collapsed_sections": [],
      "authorship_tag": "ABX9TyNHXX1282wEJ7ZblJ7lIgW3",
      "include_colab_link": true
    },
    "kernelspec": {
      "name": "python3",
      "display_name": "Python 3"
    },
    "language_info": {
      "name": "python"
    }
  },
  "cells": [
    {
      "cell_type": "markdown",
      "metadata": {
        "id": "view-in-github",
        "colab_type": "text"
      },
      "source": [
        "<a href=\"https://colab.research.google.com/github/FaKesk/MATLAB-code/blob/main/monotonic__array.ipynb\" target=\"_parent\"><img src=\"https://colab.research.google.com/assets/colab-badge.svg\" alt=\"Open In Colab\"/></a>"
      ]
    },
    {
      "cell_type": "code",
      "execution_count": 77,
      "metadata": {
        "colab": {
          "base_uri": "https://localhost:8080/"
        },
        "id": "7H9sXOKPaM-H",
        "outputId": "0887fe75-2feb-49a3-f2d8-1064af633f22"
      },
      "outputs": [
        {
          "output_type": "stream",
          "name": "stdout",
          "text": [
            "5\n",
            "[3, 1, 3, 5, 1]\n"
          ]
        }
      ],
      "source": [
        "#checking whether an array is monotonic or not\n",
        "#let us first create an array\n",
        "N=int(input()); array=[]\n",
        "import random\n",
        "for n in range(N):\n",
        "  array.append(random.randint(1,N))\n",
        "#let us print out the array content\n",
        "print(array)"
      ]
    },
    {
      "cell_type": "code",
      "source": [
        "#defining a function to test whether or not a list is monotonic\n",
        "def monotonic(Array):\n",
        "  test_list=[]\n",
        "  for i in range(len(Array)-1):\n",
        "    if Array[i]>Array[i+1]:\n",
        "      test_list.append(\"G\")\n",
        "    elif Array[i]<Array[i+1]:\n",
        "      test_list.append(\"S\")\n",
        "    elif Array[i]==Array[i+1]:\n",
        "      test_list.append(\"E\")\n",
        "  test_listt=list(set(test_list))\n",
        "  if test_listt==[\"E\",\"S\"] or test_listt==[\"S\",\"E\"]:\n",
        "    return True\n",
        "  elif test_listt==[\"E\",\"G\"] or test_listt==[\"G\",\"E\"]:\n",
        "    return True\n",
        "  elif test_listt==[\"E\"]:\n",
        "    return True\n",
        "  else:\n",
        "    return False"
      ],
      "metadata": {
        "id": "x6TXFgGPiObZ"
      },
      "execution_count": 78,
      "outputs": []
    },
    {
      "cell_type": "code",
      "source": [
        "#printing out the result\n",
        "A=[5,5]\n",
        "print(monotonic(array))"
      ],
      "metadata": {
        "colab": {
          "base_uri": "https://localhost:8080/"
        },
        "id": "fOp0ZoMTls8G",
        "outputId": "ce5c5029-53c3-4905-e804-64486c4cfd45"
      },
      "execution_count": 80,
      "outputs": [
        {
          "output_type": "stream",
          "name": "stdout",
          "text": [
            "False\n"
          ]
        }
      ]
    },
    {
      "cell_type": "code",
      "source": [
        "#use all() function\n",
        "def isMonotonic(A):\n",
        "  test_list1=[A[i]<=A[i+1] for i in range(len(A)-1)]\n",
        "  test_list2=[A[i]>=A[i+1] for i in range(len(A)-1)]\n",
        "  return all(test_list1) or all(test_list2)\n",
        "print(isMonotonic(A))"
      ],
      "metadata": {
        "colab": {
          "base_uri": "https://localhost:8080/"
        },
        "id": "owqvJI5SHP0R",
        "outputId": "f32329e4-c83c-4676-ea9f-4e8efdefc2a5"
      },
      "execution_count": 87,
      "outputs": [
        {
          "output_type": "stream",
          "name": "stdout",
          "text": [
            "True\n"
          ]
        }
      ]
    }
  ]
}