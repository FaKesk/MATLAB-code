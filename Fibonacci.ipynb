{
  "nbformat": 4,
  "nbformat_minor": 0,
  "metadata": {
    "colab": {
      "name": "Fibonacci",
      "provenance": [],
      "collapsed_sections": [],
      "authorship_tag": "ABX9TyPUWRJWYlZ0GowZF6Cclm9b",
      "include_colab_link": true
    },
    "kernelspec": {
      "name": "python3",
      "display_name": "Python 3"
    },
    "language_info": {
      "name": "python"
    }
  },
  "cells": [
    {
      "cell_type": "markdown",
      "metadata": {
        "id": "view-in-github",
        "colab_type": "text"
      },
      "source": [
        "<a href=\"https://colab.research.google.com/github/FaKesk/MATLAB-code/blob/main/Fibonacci.ipynb\" target=\"_parent\"><img src=\"https://colab.research.google.com/assets/colab-badge.svg\" alt=\"Open In Colab\"/></a>"
      ]
    },
    {
      "cell_type": "code",
      "execution_count": null,
      "metadata": {
        "colab": {
          "base_uri": "https://localhost:8080/"
        },
        "id": "HKHsYCg0hMn3",
        "outputId": "5be1b01e-f4e6-4a8f-fa46-1f5550cec008"
      },
      "outputs": [
        {
          "output_type": "stream",
          "name": "stdout",
          "text": [
            "7\n",
            "7 th Fibonacci number is 8\n"
          ]
        }
      ],
      "source": [
        "#finding Nth Fibonacci number\n",
        "N=int(input())\n",
        "F0=0; F1=1 #seed values-global variables\n",
        "def Fibonacci(N):\n",
        "  if N<0:\n",
        "    txt1=\"{} is an invalid input\"\n",
        "    return txt1.format(N)\n",
        "  elif N==0:\n",
        "    txt2=\"{} is a valid input, and yields {}\"\n",
        "    return txt2.format(N,0)\n",
        "  elif N==1:\n",
        "    txt3=\"{} is a valid input, and yields {}\"\n",
        "    return txt3.format(N,1)\n",
        "  elif N>2:\n",
        "    f_list=[]\n",
        "    f_list.append(F0); f_list.append(F1)\n",
        "    n=0\n",
        "    while n<N:\n",
        "      f_list.append(f_list[n]+f_list[n+1])\n",
        "      n+=1\n",
        "    txt4=\"{} th Fibonacci number is {}\"\n",
        "    return txt4.format(N,f_list[N-1])\n",
        "\n",
        "print(Fibonacci(N))"
      ]
    }
  ]
}