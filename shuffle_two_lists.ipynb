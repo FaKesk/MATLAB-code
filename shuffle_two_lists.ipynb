{
  "nbformat": 4,
  "nbformat_minor": 0,
  "metadata": {
    "colab": {
      "name": "shuffle_two_lists",
      "provenance": [],
      "collapsed_sections": [],
      "authorship_tag": "ABX9TyME51juBZVSOFNFnjI6tfNi",
      "include_colab_link": true
    },
    "kernelspec": {
      "name": "python3",
      "display_name": "Python 3"
    },
    "language_info": {
      "name": "python"
    }
  },
  "cells": [
    {
      "cell_type": "markdown",
      "metadata": {
        "id": "view-in-github",
        "colab_type": "text"
      },
      "source": [
        "<a href=\"https://colab.research.google.com/github/FaKesk/MATLAB-code/blob/main/shuffle_two_lists.ipynb\" target=\"_parent\"><img src=\"https://colab.research.google.com/assets/colab-badge.svg\" alt=\"Open In Colab\"/></a>"
      ]
    },
    {
      "cell_type": "code",
      "execution_count": 1,
      "metadata": {
        "id": "yKTldN3ufpR9"
      },
      "outputs": [],
      "source": [
        "test_list1=[6, 4, 8, 9, 10]\n",
        "test_list2=[1, 2, 3, 4, 5]"
      ]
    },
    {
      "cell_type": "code",
      "source": [
        "def shuffle_lists(list):\n",
        "  import random\n",
        "  return random.sample(list,len(list))"
      ],
      "metadata": {
        "id": "qA-VeSP1IcsW"
      },
      "execution_count": 7,
      "outputs": []
    },
    {
      "cell_type": "code",
      "source": [
        "print(\"{}\\n{}\".format(shuffle_lists(test_list1),shuffle_lists(test_list2)))"
      ],
      "metadata": {
        "colab": {
          "base_uri": "https://localhost:8080/"
        },
        "id": "EIA_8cosIt2O",
        "outputId": "13ad02fa-d85f-47ec-b5bd-0457a9f33d4f"
      },
      "execution_count": 10,
      "outputs": [
        {
          "output_type": "stream",
          "name": "stdout",
          "text": [
            "[6, 10, 8, 9, 4]\n",
            "[3, 1, 5, 2, 4]\n"
          ]
        }
      ]
    },
    {
      "cell_type": "code",
      "source": [
        "#we can alternately use zip() function\n",
        "import random\n",
        "zipped_lists=list(zip(test_list1,test_list2))\n",
        "random.shuffle(zipped_lists)\n",
        "list1, list2=zip(*zipped_lists)\n",
        "print(\"{}\\n{}\".format(list(list1), list(list2)))"
      ],
      "metadata": {
        "colab": {
          "base_uri": "https://localhost:8080/"
        },
        "id": "oUbG2f3vJoK6",
        "outputId": "602ac0a9-c2a0-4c04-e2ff-aad15724b350"
      },
      "execution_count": 18,
      "outputs": [
        {
          "output_type": "stream",
          "name": "stdout",
          "text": [
            "[9, 4, 10, 8, 6]\n",
            "[4, 2, 5, 3, 1]\n"
          ]
        }
      ]
    }
  ]
}