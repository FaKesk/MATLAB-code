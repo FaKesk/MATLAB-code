{
  "nbformat": 4,
  "nbformat_minor": 0,
  "metadata": {
    "colab": {
      "name": "Week2-hw",
      "provenance": [],
      "authorship_tag": "ABX9TyOkoaDKhplNi9H6Nd7EsJl/",
      "include_colab_link": true
    },
    "kernelspec": {
      "name": "python3",
      "display_name": "Python 3"
    },
    "language_info": {
      "name": "python"
    }
  },
  "cells": [
    {
      "cell_type": "markdown",
      "metadata": {
        "id": "view-in-github",
        "colab_type": "text"
      },
      "source": [
        "<a href=\"https://colab.research.google.com/github/FaKesk/MATLAB-code/blob/main/Week2_hw.ipynb\" target=\"_parent\"><img src=\"https://colab.research.google.com/assets/colab-badge.svg\" alt=\"Open In Colab\"/></a>"
      ]
    },
    {
      "cell_type": "code",
      "execution_count": 21,
      "metadata": {
        "id": "cEPaY9K5Ou5s"
      },
      "outputs": [],
      "source": [
        "import numpy as np\n",
        "def create_board():\n",
        "    board=np.zeros((3,3),dtype=int)\n",
        "    return board\n",
        "board = create_board()\n"
      ]
    },
    {
      "cell_type": "code",
      "source": [
        "def possibilities(board):\n",
        "    import numpy as np\n",
        "    my_List=[]\n",
        "    result=np.where(board==0);\n",
        "    for i in range(len(result[0])):\n",
        "        my_Tuple=(result[0][i],result[1][i])\n",
        "        my_List.append(my_Tuple)\n",
        "    return my_List"
      ],
      "metadata": {
        "id": "y-FeV9HsPZk5"
      },
      "execution_count": 22,
      "outputs": []
    },
    {
      "cell_type": "code",
      "source": [
        "def place(board, player, position):\n",
        "    if board[position] == 0:\n",
        "        board[position] = player\n",
        "        return board\n",
        "\n",
        "board = create_board()\n",
        "place(board, 1, (0, 0))"
      ],
      "metadata": {
        "colab": {
          "base_uri": "https://localhost:8080/"
        },
        "id": "EzzGnPdrVm7R",
        "outputId": "01e7919a-149a-4d89-a83c-64f879c5ac81"
      },
      "execution_count": 23,
      "outputs": [
        {
          "output_type": "execute_result",
          "data": {
            "text/plain": [
              "array([[1, 0, 0],\n",
              "       [0, 0, 0],\n",
              "       [0, 0, 0]])"
            ]
          },
          "metadata": {},
          "execution_count": 23
        }
      ]
    },
    {
      "cell_type": "code",
      "source": [
        "import random \n",
        "random.seed(1)\n",
        "\n",
        "def random_place(board, player):\n",
        "    selections = possibilities(board)\n",
        "    if len(selections) > 0:\n",
        "        selection = random.choice(selections)\n",
        "        place(board, player, selection)\n",
        "    return board\n",
        "random_place(board,2)"
      ],
      "metadata": {
        "colab": {
          "base_uri": "https://localhost:8080/"
        },
        "id": "NOE1foryP_Nt",
        "outputId": "277db8e7-5400-4085-dffb-0e040cffc9bd"
      },
      "execution_count": 24,
      "outputs": [
        {
          "output_type": "execute_result",
          "data": {
            "text/plain": [
              "array([[1, 0, 0],\n",
              "       [2, 0, 0],\n",
              "       [0, 0, 0]])"
            ]
          },
          "metadata": {},
          "execution_count": 24
        }
      ]
    },
    {
      "cell_type": "code",
      "source": [
        "def row_win(board, player):\n",
        "    if np.any(np.all(board==player, axis=1)): # this checks if any row contains all positions equal to player.\n",
        "        return True\n",
        "    else:\n",
        "        return False   "
      ],
      "metadata": {
        "id": "-k8sdKHvQKet"
      },
      "execution_count": 25,
      "outputs": []
    },
    {
      "cell_type": "code",
      "source": [
        "def col_win(board, player):\n",
        "    if np.any(np.all(board==player, axis=0)): # this checks if any row contains all positions equal to player.\n",
        "        return True\n",
        "    else:\n",
        "        return False    \n",
        "row_win(board,1)"
      ],
      "metadata": {
        "colab": {
          "base_uri": "https://localhost:8080/"
        },
        "id": "J-_XVj7TQk-p",
        "outputId": "00e207a2-184a-4492-f6b7-8b18f1a6080c"
      },
      "execution_count": 26,
      "outputs": [
        {
          "output_type": "execute_result",
          "data": {
            "text/plain": [
              "False"
            ]
          },
          "metadata": {},
          "execution_count": 26
        }
      ]
    },
    {
      "cell_type": "code",
      "source": [
        "board[2,2] = 2\n",
        "def diag_win(board, player):\n",
        "    if np.all(np.diag(board)==player) or np.all(np.diag(np.fliplr(board))==player):\n",
        "        # np.diag returns the diagonal of the array\n",
        "        # np.fliplr rearranges columns in reverse order\n",
        "        return True\n",
        "    else:\n",
        "        return False\n",
        "diag_win(board,1)"
      ],
      "metadata": {
        "colab": {
          "base_uri": "https://localhost:8080/"
        },
        "id": "hoGnLpy_QtFo",
        "outputId": "150341d7-1f6f-43a7-c7e0-b2b7b1f00038"
      },
      "execution_count": 27,
      "outputs": [
        {
          "output_type": "execute_result",
          "data": {
            "text/plain": [
              "False"
            ]
          },
          "metadata": {},
          "execution_count": 27
        }
      ]
    },
    {
      "cell_type": "code",
      "source": [
        "def evaluate(board):\n",
        "    winner = 0\n",
        "    for player in [1, 2]:\n",
        "        if row_win(board,player)==True or col_win(board,player)==True or diag_win(board,player)==True:\n",
        "            return player\n",
        "        pass\n",
        "    if np.all(board != 0) and winner == 0:\n",
        "        winner = -1\n",
        "    return winner\n",
        "\n",
        "evaluate(board)"
      ],
      "metadata": {
        "colab": {
          "base_uri": "https://localhost:8080/"
        },
        "id": "-AtfxEF8Q-tG",
        "outputId": "a0978030-0227-4b20-9c8a-199cd6c90b64"
      },
      "execution_count": 28,
      "outputs": [
        {
          "output_type": "execute_result",
          "data": {
            "text/plain": [
              "0"
            ]
          },
          "metadata": {},
          "execution_count": 28
        }
      ]
    },
    {
      "cell_type": "code",
      "source": [
        "random.seed(1)\n",
        "\n",
        "random.seed(1)\n",
        "def play_game():\n",
        "    board=create_board()\n",
        "    while True:\n",
        "        random_place(board,1)\n",
        "        if evaluate(board)==1:\n",
        "          return 1\n",
        "          break\n",
        "        elif evaluate(board)==-1:\n",
        "          return -1\n",
        "          break\n",
        "        else:\n",
        "          random_place(board,2)\n",
        "          if evaluate(board)==2:\n",
        "            return 2\n",
        "            break\n",
        "          else:\n",
        "            continue\n",
        "R=1000; results=[];\n",
        "for r in range(R):\n",
        "  results.append(play_game())\n",
        "print(results)\n",
        "\n",
        "results.count(1)"
      ],
      "metadata": {
        "colab": {
          "base_uri": "https://localhost:8080/"
        },
        "id": "s3sOaasARDap",
        "outputId": "648e1574-aad1-470d-d1cf-db81415d3aa6"
      },
      "execution_count": 29,
      "outputs": [
        {
          "output_type": "stream",
          "name": "stdout",
          "text": [
            "[1, 2, 1, 2, -1, -1, 1, 1, 2, 1, 1, 1, 1, 2, 1, 1, 2, 2, 2, -1, 1, 1, 2, 1, 1, -1, 1, 1, 2, 1, 1, 1, 1, 2, 1, 2, 2, 1, 1, 2, 1, 1, 1, 2, 1, -1, 2, 1, 2, 1, -1, 2, 1, 1, 1, 1, 2, 1, 2, 1, 2, 1, -1, 1, 1, 2, 2, -1, 1, -1, 2, 1, -1, 1, 1, 2, 1, -1, 1, 1, 1, 1, 1, 1, 1, 1, 1, 1, 2, 1, -1, 1, 1, 1, 2, 1, 1, 1, 1, -1, 2, 1, 1, 2, 1, 1, 1, 1, 1, 2, 1, 2, 1, 1, 1, 1, 2, 1, 1, 1, 1, 2, 1, -1, 1, 1, 2, 1, 2, 2, 2, -1, 2, 2, 1, 1, 1, 1, 1, 1, 1, 1, 1, -1, 1, -1, 1, 2, 2, 1, 1, -1, 1, -1, 1, 1, 1, 1, 2, 2, 1, 1, 1, 1, 1, 2, 1, 1, 1, 2, 1, 2, 2, 1, 2, 1, 2, 1, 1, 1, 2, 1, 1, 1, 2, 2, 1, 1, 1, 1, 1, 1, 1, 1, -1, 1, 2, 1, -1, -1, 1, 2, 1, 1, 2, 1, 1, 2, 1, 1, 1, 1, 1, 2, 1, 1, 1, 1, 1, 1, -1, -1, -1, -1, 1, 2, -1, 2, 1, 2, 1, -1, 1, -1, 2, 1, 2, 2, 1, 2, 1, 2, 1, -1, 2, 2, 1, 1, 1, -1, 1, 2, 1, 1, 1, 1, 2, 1, 1, -1, -1, 1, 2, 2, 2, 1, 1, 1, -1, 1, 2, 1, 1, 1, 1, 1, -1, -1, 1, 1, 1, 1, 1, 1, 2, 1, 2, 1, 1, 2, 2, 2, 1, 1, 1, 1, -1, 1, 2, 2, 1, 1, 1, 1, 1, 2, 1, 1, -1, 1, 2, 2, 1, 1, 1, 1, 2, 2, 1, 1, 1, 1, 1, 1, 1, 1, 1, -1, 2, 1, 1, 2, 2, 2, 1, -1, 1, 2, -1, -1, 2, 1, 2, 2, 2, 2, -1, 1, 2, 1, 2, -1, 1, 1, 2, 2, 1, 1, 2, 1, 1, 1, 1, 2, 1, 1, 1, 1, 2, 2, 2, 1, 1, 1, 1, 1, 2, 1, 1, -1, 1, 2, 1, 1, 1, 1, 1, 1, 1, 1, 2, 2, 1, 2, 1, 1, 1, 1, 2, 1, -1, 1, 2, 1, 1, 1, 1, 1, -1, 2, 1, 2, 2, -1, -1, 1, 1, 1, 1, -1, 1, -1, 1, 2, 2, -1, 2, 1, 1, 1, -1, 2, 1, 2, 1, 1, 1, 1, -1, 1, 1, -1, 1, 1, 2, -1, 2, 1, 2, -1, 2, 2, 1, 1, 1, -1, 1, 2, 1, 1, 2, 1, 1, 2, 1, 2, 1, -1, 1, 2, -1, 2, 1, 1, 1, -1, -1, 1, -1, 1, 1, 1, -1, 1, 1, 1, 2, 2, 1, 1, 1, 1, 1, 1, 1, 2, 2, 1, 1, -1, 2, 1, 2, 1, 1, 1, 1, 2, 2, 1, -1, 1, 1, 1, 1, 1, 1, 1, 1, 1, 2, 2, -1, -1, 1, 1, 1, 1, 2, 1, 1, 1, 2, 1, 1, 1, 1, 1, 2, 1, 1, 2, 2, 1, 2, 1, 1, 1, 1, 1, 1, 1, 1, 1, 1, 1, 1, 1, 1, 1, 1, -1, 2, 1, 2, 1, 1, 1, -1, 1, 1, 1, 1, 2, 1, 2, 1, 1, 2, -1, -1, 2, 2, 2, 1, 1, 1, -1, 1, -1, 1, 1, 2, 1, 2, -1, -1, 2, 2, -1, 1, 1, 1, 2, 1, 2, 1, -1, 2, 2, 2, 1, 2, 2, 2, 2, 1, 1, 2, 1, 1, 1, 1, 1, -1, 2, 2, 1, -1, 2, 2, 1, 2, 2, 1, 1, 1, -1, 2, 2, 1, -1, 1, 2, 2, 1, 2, 1, 1, 1, 2, 2, 1, -1, 2, 1, 1, 2, 2, 2, 1, 1, -1, 1, 1, 2, 1, 1, 1, 1, 2, 2, 1, 1, 2, 1, 1, 1, 1, 2, 2, 1, 1, 2, 1, -1, 2, 1, 2, 1, 1, -1, 1, 2, 1, 1, -1, 1, 2, 2, -1, -1, 1, 1, 1, 1, 2, 1, 1, 2, -1, 1, 1, 1, -1, 1, 2, 2, 1, 1, 2, 1, 1, 1, 1, 2, 1, 1, 2, -1, 1, 1, 1, 2, 1, 2, 1, 2, 1, 1, 1, 1, 1, 2, 2, 1, 1, 1, 1, 1, 1, 1, 1, 1, 1, 2, 1, 2, 2, 1, 1, 1, 1, 1, 1, 2, 1, 1, 1, 1, 1, 1, 2, 1, 1, -1, 2, 1, 1, 1, 2, -1, 1, 1, 1, 1, -1, 1, 1, 1, 2, 1, -1, 1, 1, 2, 1, 2, 1, 1, 1, 1, 2, 1, 1, 2, -1, -1, 1, 1, 2, 1, 2, -1, 1, 1, 1, 2, 1, 1, 1, 2, -1, 2, -1, 2, 2, 2, 1, 2, 1, 1, 2, 1, 1, 1, 1, 1, 1, 2, 2, 1, 1, 1, 1, 2, 1, 1, 2, 1, 1, 1, 1, 1, 1, 2, 2, -1, 1, 2, 2, 1, 1, 1, -1, 2, 1, 1, 1, 1, 1, -1, 1, 1, 1, 1, 1, 1, 2, 1, -1, 1, 2, 2, 2, 2, 2, 1, 2, 2, 1, 2, 2, 1, 1, -1, 1, 2, 2, 1, 1, 2, 1, 2, 1, 1, 1, 1, 1, 2, 2, -1, -1, 2, 2, 2, 2, 1, -1, 1, 1, 2, 2, 1, 2, 1, 2, 2, 2, 1, 2, 1, 2, 1, 1, 1, 1, 1, 1, 1, 1, 2, -1, -1, 2, 2, 2, 1, 2, 1, 1, 1, -1, 1, 1, 1, 1, 1, 2, 2, -1, 2, -1, 1, -1, 1, 1, 1, -1, -1, 2, 2, 1, 2, -1, 1, 1, 1, -1, -1, -1, 2, 1, -1, 1, 1, 1, 1, -1, 2, 2, 2, 1, 1, 2, 2, 2, 1, 1, 2]\n"
          ]
        },
        {
          "output_type": "execute_result",
          "data": {
            "text/plain": [
              "591"
            ]
          },
          "metadata": {},
          "execution_count": 29
        }
      ]
    },
    {
      "cell_type": "code",
      "source": [
        "#exercise 11\n",
        "def play_strategic_game():\n",
        "  board=create_board()\n",
        "  board[1][1]=1\n",
        "  while True:\n",
        "        random_place(board,2)\n",
        "        if evaluate(board)==2:\n",
        "          return 2\n",
        "          break\n",
        "        elif evaluate(board)==-1:\n",
        "          return -1\n",
        "          break\n",
        "        else:\n",
        "          random_place(board,1)\n",
        "          if evaluate(board)==1:\n",
        "            return 1\n",
        "            break\n",
        "          else:\n",
        "            continue\n",
        "random.seed(1)\n",
        "C=1000; results2=[];\n",
        "for c in range(C):\n",
        "  results2.append(play_strategic_game())\n",
        "print(results2)\n",
        "\n",
        "results2.count(1)"
      ],
      "metadata": {
        "colab": {
          "base_uri": "https://localhost:8080/"
        },
        "id": "32_ClIBJcB_X",
        "outputId": "ed5ce77e-7fb5-4493-8e45-fc63546d56be"
      },
      "execution_count": 38,
      "outputs": [
        {
          "output_type": "stream",
          "name": "stdout",
          "text": [
            "[2, -1, 1, 1, 1, 2, 2, 1, 1, 1, -1, 1, 1, 1, 1, 1, 2, 2, 1, 1, 1, -1, 1, -1, 1, -1, 1, 2, 1, 1, 1, 1, 1, 1, 1, -1, 1, 1, 1, 1, 1, 1, 2, 1, 1, 1, 1, 1, -1, 1, 1, 2, -1, 1, -1, 1, 1, 1, 2, 1, 1, -1, 1, 1, 2, 1, 2, 1, 2, 1, 1, 1, -1, -1, 1, 1, 2, 1, 2, -1, 1, 1, 1, 1, 1, 1, 1, -1, 2, 1, -1, 1, 2, 1, 1, 2, 1, 1, 1, 1, 2, 1, 1, 1, 1, -1, 2, -1, 1, 1, 1, -1, 1, 1, 1, 1, 1, 2, 1, 1, 2, 1, 1, 2, 1, 1, 1, 1, 1, 1, 1, 1, 2, 1, 2, 1, 1, 1, 2, 1, 1, -1, 1, 2, 2, 1, 2, 2, 2, 1, 1, -1, 1, 1, 1, 1, 1, 2, 1, 1, 1, 1, 2, 2, 1, 1, 2, 1, 1, 1, 1, 1, 2, 1, 2, 1, -1, 2, 1, 1, 1, 1, 2, 1, 2, -1, 2, -1, 1, 1, 2, 1, 1, 1, 1, 1, 1, 1, -1, 1, 1, 2, 1, 1, 2, 1, -1, 1, 1, 2, 1, 1, 1, 1, 2, 1, 2, 1, 2, 1, -1, 1, 1, 2, 1, 2, 1, 1, -1, 1, 1, 1, 2, 1, 1, 1, 1, 1, 2, 2, 1, 1, 1, 1, 1, -1, 1, 1, 1, 1, 1, 2, -1, 2, 1, 1, 1, 1, 1, 1, 1, 2, 2, -1, 1, 1, 1, 1, 2, -1, 1, 1, 1, 1, -1, -1, 1, 1, 1, 1, 1, 1, 2, 1, 1, 1, 1, 1, 1, -1, 1, 1, 1, 1, 1, 1, 1, 1, 1, -1, 1, 2, 1, 2, 1, 1, 1, 1, 1, -1, 1, -1, 2, 2, 1, 1, 2, 2, 1, -1, 2, 1, 1, -1, 1, 1, 2, 2, 1, 1, 1, 1, -1, -1, 1, 1, 2, 1, 1, 1, 1, 2, 1, 2, -1, 1, 1, 1, 1, 1, 1, 2, -1, 1, 2, -1, 2, 1, 2, 1, 1, 2, 1, 1, 1, -1, 2, 1, -1, 1, 2, 2, -1, 1, 1, 2, 1, 1, 1, 1, 2, 2, 2, 2, 1, 2, 1, 1, 1, 1, 1, 1, 2, 1, 1, 1, 1, 1, 1, 1, 1, 1, 2, 1, 1, 1, 1, 2, 2, 1, 2, 1, 1, 1, 1, 1, 1, 1, 2, 1, 1, 1, 1, 2, 1, 1, 1, 1, 1, 1, 1, 2, 1, 1, 1, 1, 1, 1, 2, 1, 1, 2, 1, 1, 1, 1, -1, 1, 1, -1, 1, 1, 1, 2, 1, 1, 1, 1, 1, 1, -1, 1, 1, 1, 2, 1, 1, 1, 1, -1, 1, 2, 2, 1, 1, 1, 1, 2, 1, 1, 1, 2, 1, 1, 1, 1, 1, 1, 1, 2, 1, 2, 2, 2, 2, 1, 2, 2, -1, 1, 1, 1, 1, 1, 2, 1, 1, 2, 2, 1, -1, 1, -1, 1, 1, 1, 1, 1, 1, 1, 1, 1, -1, 1, 1, 1, 1, 1, 1, 1, 2, 1, 1, 1, 1, 1, -1, 1, 1, 1, 2, 1, 2, -1, 1, 1, 1, 1, 1, 1, -1, 2, -1, 1, 1, 1, 1, 1, 2, 1, 2, 1, 1, 1, 1, 1, 1, 1, 1, 1, 1, 1, 1, 1, -1, 1, 2, 1, 2, 1, 1, 1, 2, 1, 1, 2, 2, 2, 1, 1, 1, 2, -1, 1, 1, 2, 1, -1, 1, 1, 2, 1, -1, 1, 1, 1, 1, 1, -1, 2, 2, 2, 1, 1, 2, 1, 1, 1, 1, 1, 2, 1, 1, 1, 1, -1, 1, -1, 1, 1, 2, 1, 1, 1, 1, -1, 1, 1, 1, 1, -1, 1, 2, 1, 1, 1, 1, 1, 1, 1, 1, 2, 1, 2, 2, 1, 1, 1, 1, 1, 1, 1, 1, 1, 1, 1, 2, 1, 2, 1, -1, 1, 2, 2, 1, 1, -1, 1, 2, 1, 2, 1, 1, 1, 1, 1, 1, 1, 1, 1, 2, 1, -1, 1, -1, 1, 1, 1, 1, 1, 1, 2, 1, 1, 1, 1, -1, 1, 2, 1, 1, 1, 1, 1, -1, 1, 1, 1, 1, 1, -1, 1, 1, 1, 1, 2, 1, 1, 1, 1, 1, 1, 1, 1, 1, 2, 1, 1, 1, 2, 1, 1, 1, 1, 1, 1, 1, 1, 1, 1, 1, 1, 2, 1, 1, 1, 1, -1, 2, 1, 2, -1, 1, 1, 1, 1, 1, 1, 1, 1, 1, 1, 2, 1, 1, 1, 1, 1, 1, -1, 1, 1, 1, 2, 1, 1, 2, 1, 1, 1, 1, 1, 1, 1, -1, 2, 2, 2, 1, 1, 1, -1, 2, 1, 1, 1, 2, 1, 1, 1, 1, 1, 1, 1, 1, -1, 1, 2, 1, 1, 1, 1, 2, 1, 1, 1, 1, 1, 1, 1, 2, 1, 1, 1, 2, 1, 1, 1, 2, 1, 1, 1, 1, 1, 1, 1, 1, -1, 1, 1, 2, 1, 2, 1, 1, 1, 1, 1, 1, 1, 1, -1, 1, 1, 2, 1, 1, 2, 2, 1, 2, 2, 1, 1, 1, 1, 1, 1, 1, 1, 1, 1, 2, 1, 1, 1, 1, 1, 2, 1, 2, 2, 2, -1, 1, 1, 1, 2, 2, 1, 2, 1, 2, 1, 1, 1, 1, 1, 1, 1, 1, 1, 2, 1, -1, 1, 1, 2, 1, 2, 1, 2, 1, 1, 1, 2, -1, 1, 1, 1, 1, 1, 1, 1, 1, 1, 1, 1, 1, 1, 1, 1, 1, 2, -1, 1, 1, 2, 1, 1, 1, 1, 1, 1, 1, 1, 1, 1, -1, 1, 1, -1, 1, 2, 1, 1, 1, 2, 2, 2, 2, 1, 1, 1, 2, 1, 1, 1, 1, 1, 1, 1, 1, 1, 2, 1, 1, 1, 1, 1, 1, -1, 1, 1, 1, 1, 1, 1, 1, 2]\n"
          ]
        },
        {
          "output_type": "execute_result",
          "data": {
            "text/plain": [
              "716"
            ]
          },
          "metadata": {},
          "execution_count": 38
        }
      ]
    }
  ]
}