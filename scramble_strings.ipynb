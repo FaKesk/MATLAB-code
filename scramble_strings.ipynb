{
  "nbformat": 4,
  "nbformat_minor": 0,
  "metadata": {
    "colab": {
      "name": "scramble_strings",
      "provenance": [],
      "collapsed_sections": [],
      "authorship_tag": "ABX9TyMwx1tzO5XfGyna5E5OFYTm",
      "include_colab_link": true
    },
    "kernelspec": {
      "name": "python3",
      "display_name": "Python 3"
    },
    "language_info": {
      "name": "python"
    }
  },
  "cells": [
    {
      "cell_type": "markdown",
      "metadata": {
        "id": "view-in-github",
        "colab_type": "text"
      },
      "source": [
        "<a href=\"https://colab.research.google.com/github/FaKesk/MATLAB-code/blob/main/scramble_strings.ipynb\" target=\"_parent\"><img src=\"https://colab.research.google.com/assets/colab-badge.svg\" alt=\"Open In Colab\"/></a>"
      ]
    },
    {
      "cell_type": "code",
      "execution_count": 10,
      "metadata": {
        "id": "mE-PPme2SZC9"
      },
      "outputs": [],
      "source": [
        "list1=['gfg', 'is', 'best', 'for', 'geeks']; shuffled_list=[]"
      ]
    },
    {
      "cell_type": "code",
      "source": [
        "#defining function to shuffle the letters in a word\n",
        "def scramble(word):\n",
        "  import random\n",
        "  letter_list=list(word)\n",
        "  shuffled=random.sample(letter_list,len(letter_list))\n",
        "  s=\"\"\n",
        "  for j in range(len(shuffled)):\n",
        "    s+=shuffled[j]\n",
        "  return s\n",
        "\n",
        "#defining a function to created the list with scrambled strings\n",
        "def function(list2):\n",
        "  for i in range(len(list2)):\n",
        "    shuffled_list.append(scramble(list2[i]))\n",
        "  return shuffled_list\n",
        "\n",
        "print(\"Scrambled strings in lists are: \",function(list1))"
      ],
      "metadata": {
        "colab": {
          "base_uri": "https://localhost:8080/"
        },
        "id": "Llgl2VogSa8z",
        "outputId": "2715e51f-f694-4fda-cd39-7ce401bd5b21"
      },
      "execution_count": 11,
      "outputs": [
        {
          "output_type": "stream",
          "name": "stdout",
          "text": [
            "Scrambled strings in lists are:  ['ggf', 'si', 'esbt', 'orf', 'geesk']\n"
          ]
        }
      ]
    }
  ]
}