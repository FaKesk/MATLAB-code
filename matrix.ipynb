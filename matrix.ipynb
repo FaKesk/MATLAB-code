{
  "nbformat": 4,
  "nbformat_minor": 0,
  "metadata": {
    "colab": {
      "name": "matrix",
      "provenance": [],
      "collapsed_sections": [],
      "authorship_tag": "ABX9TyOgizHcefdwSg3JAhTd5SB5",
      "include_colab_link": true
    },
    "kernelspec": {
      "name": "python3",
      "display_name": "Python 3"
    },
    "language_info": {
      "name": "python"
    }
  },
  "cells": [
    {
      "cell_type": "markdown",
      "metadata": {
        "id": "view-in-github",
        "colab_type": "text"
      },
      "source": [
        "<a href=\"https://colab.research.google.com/github/FaKesk/MATLAB-code/blob/main/matrix.ipynb\" target=\"_parent\"><img src=\"https://colab.research.google.com/assets/colab-badge.svg\" alt=\"Open In Colab\"/></a>"
      ]
    },
    {
      "cell_type": "code",
      "execution_count": null,
      "metadata": {
        "colab": {
          "base_uri": "https://localhost:8080/"
        },
        "id": "cVppnAreNbcQ",
        "outputId": "1b1da587-2237-403c-82bd-64dafde1588a"
      },
      "outputs": [
        {
          "output_type": "stream",
          "name": "stdout",
          "text": [
            "[[3, 2, 1], [4, 5, 6], [9, 8, 7]]\n"
          ]
        }
      ],
      "source": [
        "#changing diagonals of a matrix\n",
        "A=[[1,2,3],[4,5,6],[7,8,9]]\n",
        "size=len(A)-1\n",
        "for i in range(len(A)):\n",
        "  for j in range(len(A)):\n",
        "    if i==j:\n",
        "      A[i][j], A[i][size-i] = A[i][size-i], A[i][j]\n",
        "    else:\n",
        "      pass\n",
        "print(A)"
      ]
    }
  ]
}