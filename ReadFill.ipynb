{
  "nbformat": 4,
  "nbformat_minor": 0,
  "metadata": {
    "colab": {
      "name": "ReadFill",
      "provenance": [],
      "collapsed_sections": [],
      "authorship_tag": "ABX9TyMhIjJXgCZMwUwfJ8zP4JhJ",
      "include_colab_link": true
    },
    "kernelspec": {
      "name": "python3",
      "display_name": "Python 3"
    },
    "language_info": {
      "name": "python"
    }
  },
  "cells": [
    {
      "cell_type": "markdown",
      "metadata": {
        "id": "view-in-github",
        "colab_type": "text"
      },
      "source": [
        "<a href=\"https://colab.research.google.com/github/FaKesk/MATLAB-code/blob/main/ReadFill.ipynb\" target=\"_parent\"><img src=\"https://colab.research.google.com/assets/colab-badge.svg\" alt=\"Open In Colab\"/></a>"
      ]
    },
    {
      "cell_type": "code",
      "execution_count": 7,
      "metadata": {
        "colab": {
          "base_uri": "https://localhost:8080/"
        },
        "id": "B0VcLkqIWZ9A",
        "outputId": "1cb77dfb-4bed-4953-b9c1-6d9fc00f0c14"
      },
      "outputs": [
        {
          "output_type": "stream",
          "name": "stdout",
          "text": [
            "[[1, 2, 3, 4], [5, 6, 7, 8], [9, 1, 4, 5]]\n"
          ]
        }
      ],
      "source": [
        "M=[]\n",
        "with open(\"matrix file\") as myFile:\n",
        "  for line in myFile:\n",
        "    M.append(line.split())\n",
        "for i in range(len(M)):\n",
        "  for j in range(len(M[0])):\n",
        "    M[i][j]=int(M[i][j])\n",
        "\n",
        "print(M)"
      ]
    }
  ]
}