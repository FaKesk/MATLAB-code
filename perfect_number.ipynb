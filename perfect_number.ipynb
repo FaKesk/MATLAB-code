{
  "nbformat": 4,
  "nbformat_minor": 0,
  "metadata": {
    "colab": {
      "name": "perfect number",
      "provenance": [],
      "collapsed_sections": [],
      "authorship_tag": "ABX9TyOpJTIPSumaLwbopfZCK1TA",
      "include_colab_link": true
    },
    "kernelspec": {
      "name": "python3",
      "display_name": "Python 3"
    },
    "language_info": {
      "name": "python"
    }
  },
  "cells": [
    {
      "cell_type": "markdown",
      "metadata": {
        "id": "view-in-github",
        "colab_type": "text"
      },
      "source": [
        "<a href=\"https://colab.research.google.com/github/FaKesk/MATLAB-code/blob/main/perfect_number.ipynb\" target=\"_parent\"><img src=\"https://colab.research.google.com/assets/colab-badge.svg\" alt=\"Open In Colab\"/></a>"
      ]
    },
    {
      "cell_type": "code",
      "execution_count": null,
      "metadata": {
        "colab": {
          "base_uri": "https://localhost:8080/"
        },
        "id": "fTCmx9MrVNBQ",
        "outputId": "a2904f05-d87a-465d-c275-9eb6aaf28edf"
      },
      "outputs": [
        {
          "output_type": "stream",
          "name": "stdout",
          "text": [
            "Enter a positive integer: 19\n",
            "Good job!\n",
            "17 is not a perfect number\n"
          ]
        }
      ],
      "source": [
        "#taking a positive integer from the user\n",
        "while True:\n",
        "  N=int(input(\"Enter a positive integer: \"))\n",
        "  if N<=0:\n",
        "    print(\"Try again!\")\n",
        "    continue\n",
        "  else:\n",
        "    print(\"Good job!\")\n",
        "    break \n",
        "\n",
        "#generating a positive integer in 1-N range\n",
        "import random\n",
        "my_number=random.randint(1,N)\n",
        "divisors=[]\n",
        "#putting the proper divisors into a list\n",
        "for n in range(1,N):\n",
        "  if N%n==0:\n",
        "    divisors.append(n)\n",
        "  else:\n",
        "    pass\n",
        "\n",
        "#summing the divisors up\n",
        "initial_sum=0; k=0\n",
        "while k<len(divisors):\n",
        "  initial_sum+=divisors[k]\n",
        "  k+=1\n",
        "\n",
        "#checking whether or not the number is perfect\n",
        "if initial_sum==my_number:\n",
        "  print(my_number, \"is a perfect number!!\")\n",
        "else:\n",
        "  print(my_number, \"is not a perfect number\")\n"
      ]
    },
    {
      "cell_type": "code",
      "source": [
        "while True:\n",
        "  M=int(input(\"Enter a positive integer: \"))\n",
        "  if N<=0:\n",
        "    print(\"Try again!\")\n",
        "    continue\n",
        "  else:\n",
        "    print(\"Good job!\")\n",
        "    break \n",
        "\n",
        "import random\n",
        "my_number=random.randint(1,M)\n",
        "def perfect_number(my_number):\n",
        "  factors=[]\n",
        "  for m in range(1,M):\n",
        "    if M%m==0:\n",
        "      factors.append(m)\n",
        "    else:\n",
        "      pass\n",
        "\n",
        "  sum=0; s=0\n",
        "  while s<len(divisors):\n",
        "    sum+=divisors[s]\n",
        "    s+=1\n",
        "\n",
        "  return sum\n",
        "\n",
        "K=perfect_number(my_number)\n",
        "def is_it(K):\n",
        "  txt1=\"{} is a perfect number\"\n",
        "  txt2=\"{} is not a perfect number\"\n",
        "  if perfect_number(my_number)==my_number:\n",
        "    return txt1.format(my_number)\n",
        "  else:\n",
        "    return txt2.format(my_number)"
      ],
      "metadata": {
        "colab": {
          "base_uri": "https://localhost:8080/"
        },
        "id": "aOodzO3BcgrE",
        "outputId": "aacbd6b7-c86a-4dd1-b9ca-49e1b659ae49"
      },
      "execution_count": null,
      "outputs": [
        {
          "output_type": "stream",
          "name": "stdout",
          "text": [
            "Enter a positive integer: 23\n",
            "Good job!\n"
          ]
        }
      ]
    },
    {
      "cell_type": "code",
      "source": [
        "a=perfect_number(my_number)\n",
        "print(is_it(a))"
      ],
      "metadata": {
        "colab": {
          "base_uri": "https://localhost:8080/"
        },
        "id": "F2a9FKy0fQfg",
        "outputId": "bb6b2ef7-afe0-49f1-cda9-5dfe2be9aacc"
      },
      "execution_count": null,
      "outputs": [
        {
          "output_type": "stream",
          "name": "stdout",
          "text": [
            "22 is not a perfect number\n"
          ]
        }
      ]
    },
    {
      "cell_type": "code",
      "source": [
        ""
      ],
      "metadata": {
        "id": "GcqRC88HiMuo"
      },
      "execution_count": null,
      "outputs": []
    }
  ]
}