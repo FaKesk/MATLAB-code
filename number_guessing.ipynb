{
  "nbformat": 4,
  "nbformat_minor": 0,
  "metadata": {
    "colab": {
      "name": "number_guessing",
      "provenance": [],
      "collapsed_sections": [],
      "authorship_tag": "ABX9TyOJ2Ex1OjM/7cy3mgIJq4ci",
      "include_colab_link": true
    },
    "kernelspec": {
      "name": "python3",
      "display_name": "Python 3"
    },
    "language_info": {
      "name": "python"
    }
  },
  "cells": [
    {
      "cell_type": "markdown",
      "metadata": {
        "id": "view-in-github",
        "colab_type": "text"
      },
      "source": [
        "<a href=\"https://colab.research.google.com/github/FaKesk/MATLAB-code/blob/main/number_guessing.ipynb\" target=\"_parent\"><img src=\"https://colab.research.google.com/assets/colab-badge.svg\" alt=\"Open In Colab\"/></a>"
      ]
    },
    {
      "cell_type": "code",
      "execution_count": 4,
      "metadata": {
        "id": "naS2XH5884CH",
        "colab": {
          "base_uri": "https://localhost:8080/"
        },
        "outputId": "676cc122-ed00-49fd-afee-c4e92074ac71"
      },
      "outputs": [
        {
          "output_type": "stream",
          "name": "stdout",
          "text": [
            "Enter lower and upper bounds: 1, 4\n",
            "The lower and upper bounds are respectively 1 and 4\n",
            "Enter an integer in between 1 and 4: 1\n",
            "Try again! You guessed too small\n",
            "Enter an integer in between 1 and 4: 2\n",
            "Well done!\n",
            "Congratulations!\n"
          ]
        }
      ],
      "source": [
        "#taking lower and upper bounds using input\n",
        "A, B=[int(n) for n in input(\"Enter lower and upper bounds: \").split(\",\")]\n",
        "print(\"The lower and upper bounds are respectively {} and {}\".format(A, B))\n",
        "import random\n",
        "import math\n",
        "#generating a random integer in lower and upper bound range\n",
        "#computing minimum number of guesses the user can make\n",
        "number=random.randint(A, B); min_guess=math.log(B-A+1,2)\n",
        "#initialising the while loop\n",
        "counter=0\n",
        "while True:\n",
        "  N=int(input(\"Enter an integer in between {} and {}: \".format(A, B)))\n",
        "  counter+=1 #the counter increases for each guess\n",
        "  if N==number:\n",
        "    print(\"Well done!\")\n",
        "    break\n",
        "  elif N<number:\n",
        "    print(\"Try again! You guessed too small\")\n",
        "    continue\n",
        "  else:\n",
        "    print(\"Try again! You guessed too high\")\n",
        "    continue\n",
        "#determining how many times the user made guesses\n",
        "if counter==min_guess:\n",
        "  print(\"Congratulations!\")\n",
        "else:\n",
        "  print(\"Better luck next time!\")"
      ]
    }
  ]
}