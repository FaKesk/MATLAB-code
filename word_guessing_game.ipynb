{
  "nbformat": 4,
  "nbformat_minor": 0,
  "metadata": {
    "colab": {
      "name": "word_guessing_game",
      "provenance": [],
      "collapsed_sections": [],
      "authorship_tag": "ABX9TyPbGNDvkCFGD4tN0aHEG/10",
      "include_colab_link": true
    },
    "kernelspec": {
      "name": "python3",
      "display_name": "Python 3"
    },
    "language_info": {
      "name": "python"
    }
  },
  "cells": [
    {
      "cell_type": "markdown",
      "metadata": {
        "id": "view-in-github",
        "colab_type": "text"
      },
      "source": [
        "<a href=\"https://colab.research.google.com/github/FaKesk/MATLAB-code/blob/main/word_guessing_game.ipynb\" target=\"_parent\"><img src=\"https://colab.research.google.com/assets/colab-badge.svg\" alt=\"Open In Colab\"/></a>"
      ]
    },
    {
      "cell_type": "code",
      "execution_count": 25,
      "metadata": {
        "id": "RMORwaCuieIs"
      },
      "outputs": [],
      "source": [
        "word_list=[\"life\",\"death\",\"time\",\"love\",\"hostility\",\"grief\"]"
      ]
    },
    {
      "cell_type": "code",
      "source": [
        "#choosing a random word from the list\n",
        "import random\n",
        "random_word=random.choice(word_list)"
      ],
      "metadata": {
        "id": "1-s91spAojx1"
      },
      "execution_count": 49,
      "outputs": []
    },
    {
      "cell_type": "code",
      "source": [
        "#asking the user his or her name\n",
        "name=input(\"What is your name?: \")\n",
        "print(\"Good luck {}! \\nGuess the characters.\".format(name))\n",
        "\n",
        "#creating the positions of letters\n",
        "turns=12; letter_list=list(random_word)\n",
        "for i in range(len(letter_list)):\n",
        "  print(\"_ \\n\")"
      ],
      "metadata": {
        "colab": {
          "base_uri": "https://localhost:8080/"
        },
        "id": "2CDm7xQvpFX-",
        "outputId": "00ebafb0-1470-4e11-bd32-34cb5b551691"
      },
      "execution_count": 50,
      "outputs": [
        {
          "output_type": "stream",
          "name": "stdout",
          "text": [
            "What is your name?: Fatma\n",
            "Good luck Fatma! \n",
            "Guess the characters.\n",
            "_ \n",
            "\n",
            "_ \n",
            "\n",
            "_ \n",
            "\n",
            "_ \n",
            "\n",
            "_ \n",
            "\n"
          ]
        }
      ]
    },
    {
      "cell_type": "code",
      "source": [
        "new_letter_list=[]; \n",
        "for j in range(turns):\n",
        "  letter=input(\"Guess a character: \")\n",
        "  new_letter_list.append(letter)\n",
        "  for k in range(len(letter_list)):\n",
        "    if letter_list[k]==letter:\n",
        "      print(letter)\n",
        "    elif letter_list[k]!=letter:\n",
        "      print(\"_\")\n",
        "  if set(letter_list).issubset(set(new_letter_list))==True:\n",
        "    print(\"You win.\\nThe word is {}\".format(random_word))\n",
        "    break\n",
        "\n",
        "if set(letter_list).intersection(set(new_letter_list))==False:\n",
        "  print(\"You lose\")\n"
      ],
      "metadata": {
        "colab": {
          "base_uri": "https://localhost:8080/"
        },
        "id": "DBvvyH5G3So7",
        "outputId": "d24b64bb-9b02-415f-9db1-391a5fa768a1"
      },
      "execution_count": 72,
      "outputs": [
        {
          "output_type": "stream",
          "name": "stdout",
          "text": [
            "Guess a character: d\n",
            "d\n",
            "_\n",
            "_\n",
            "_\n",
            "_\n",
            "Guess a character: t\n",
            "_\n",
            "_\n",
            "_\n",
            "t\n",
            "_\n",
            "Guess a character: e\n",
            "_\n",
            "e\n",
            "_\n",
            "_\n",
            "_\n",
            "Guess a character: a\n",
            "_\n",
            "_\n",
            "a\n",
            "_\n",
            "_\n",
            "Guess a character: h\n",
            "_\n",
            "_\n",
            "_\n",
            "_\n",
            "h\n",
            "You win.\n",
            "The word is death\n"
          ]
        }
      ]
    }
  ]
}